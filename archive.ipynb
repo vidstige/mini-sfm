{
 "cells": [
  {
   "cell_type": "markdown",
   "metadata": {},
   "source": [
    "### Conics"
   ]
  },
  {
   "cell_type": "markdown",
   "metadata": {},
   "source": [
    "A \"concic\" is a quadratic on the form\n",
    "\n",
    "$$ax^2 + bxy + cy^2 + dx + ey + f = 0$$\n",
    "\n",
    "Using\n",
    "$$ \\mathbf{C} = \\begin{bmatrix}\n",
    " a  & b/2 & d/2 \\\\\n",
    "b/2 &  c  & e/2 \\\\\n",
    "d/2 & e/2 &  f  \\\\\n",
    "\\end{bmatrix}\n",
    "$$\n",
    "\n",
    "It can be written just $\\mathbf{x}^T\\mathbf{Cx} = 0$\n",
    "\n",
    "To compute a conic from 5 points we can use the first equation\n",
    "\n",
    "$$\n",
    "\\begin{bmatrix}\n",
    "x_1^2 & x_1y_1 & y_1^2 & x_1 & y_1 & 1 \\\\\n",
    "x_2^2 & x_2y_2 & y_2^2 & x_2 & y_2 & 1 \\\\\n",
    "x_3^2 & x_3y_3 & y_3^2 & x_3 & y_3 & 1 \\\\\n",
    "x_4^2 & x_4y_4 & y_4^2 & x_4 & y_4 & 1 \\\\\n",
    "x_5^2 & x_5y_5 & y_5^2 & x_5 & y_5 & 1 \\\\\n",
    "\\end{bmatrix}\n",
    "= \n",
    "\\begin{bmatrix}\n",
    "a \\\\ b \\\\ c \\\\ d \\\\ e \\\\ f\n",
    "\\end{bmatrix}\n",
    "$$"
   ]
  },
  {
   "cell_type": "code",
   "execution_count": 8,
   "metadata": {},
   "outputs": [],
   "source": [
    "from matplotlib import pyplot as plt\n",
    "import numpy as np\n",
    "\n",
    "def homogenous(euclidian):\n",
    "    return np.vstack((euclidian, np.ones((1, euclidian.shape[1]))))\n",
    "\n",
    "def plot_implicit(f, xrange, yrange, delta=0.025):\n",
    "    xr = np.arange(*xrange, delta)\n",
    "    yr = np.arange(*yrange, delta)\n",
    "    xx, yy = np.meshgrid(xr, yr)\n",
    "\n",
    "    x = homogenous(np.vstack((xx.ravel(), yy.ravel())))\n",
    "    values = f(x)\n",
    "\n",
    "    plt.contour(xr, yr, np.reshape(values, (len(xr), len(yr))), 0)\n",
    "    plt.show()\n"
   ]
  },
  {
   "cell_type": "code",
   "execution_count": 7,
   "metadata": {},
   "outputs": [],
   "source": [
    "from numpy.linalg import svd\n",
    "\n",
    "def nullspace(A, atol=1e-13, rtol=0):\n",
    "    A = np.atleast_2d(A)\n",
    "    u, s, vh = svd(A)\n",
    "    tol = max(atol, rtol * s[0])\n",
    "    nnz = (s >= tol).sum()\n",
    "    ns = vh[nnz:].conj().T\n",
    "    return ns\n"
   ]
  },
  {
   "cell_type": "code",
   "execution_count": 9,
   "metadata": {},
   "outputs": [
    {
     "name": "stdout",
     "output_type": "stream",
     "text": [
      "[[ 0.00742068]\n",
      " [-0.0065102 ]\n",
      " [ 0.01209238]\n",
      " [-0.13498252]\n",
      " [-0.12408608]\n",
      " [ 0.98292354]]\n"
     ]
    },
    {
     "data": {
      "image/png": "[encoded data removed]",
      "text/plain": [
       "<Figure size 432x288 with 1 Axes>"
      ]
     },
     "metadata": {
      "needs_background": "light"
     },
     "output_type": "display_data"
    }
   ],
   "source": [
    "import numpy as np\n",
    "\n",
    "def conic(xx, v):\n",
    "    a, b, c, d, e, f = v.ravel()\n",
    "    x, y, w = xx\n",
    "    A = np.vstack((x**2, x*y, y**2, x, y, w)).T\n",
    "    return np.dot(A, v)\n",
    "\n",
    "points = np.array([\n",
    "    [ 5.53679211,  4.26576703],\n",
    "    [15.12532258,  3.55924373],\n",
    "    [20.57564516,  9.11049821],\n",
    "    [18.55700717, 14.25802509],\n",
    "    [ 9.37220430, 12.94591039]]).T\n",
    "\n",
    "x, y = points\n",
    "A = np.vstack((x**2, x*y, y**2, x, y, np.ones(5))).T\n",
    "c = nullspace(A)\n",
    "print(c)\n",
    "\n",
    "plot_implicit(lambda x: conic(x, c), (-25, 25), (-25, 25), delta=1)\n",
    "\n"
   ]
  },
  {
   "cell_type": "code",
   "execution_count": null,
   "metadata": {},
   "outputs": [],
   "source": []
  }
 ],
 "metadata": {
  "kernelspec": {
   "display_name": "Python 3",
   "language": "python",
   "name": "python3"
  },
  "language_info": {
   "codemirror_mode": {
    "name": "ipython",
    "version": 3
   },
   "file_extension": ".py",
   "mimetype": "text/x-python",
   "name": "python",
   "nbconvert_exporter": "python",
   "pygments_lexer": "ipython3",
   "version": "3.6.12"
  }
 },
 "nbformat": 4,
 "nbformat_minor": 4
}
