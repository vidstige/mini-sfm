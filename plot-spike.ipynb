{
 "cells": [
  {
   "cell_type": "code",
   "execution_count": 120,
   "metadata": {},
   "outputs": [
    {
     "data": {
      "application/vnd.jupyter.widget-view+json": {
       "model_id": "69834ae29f414eab8252b8c99f7c9d9a",
       "version_major": 2,
       "version_minor": 0
      },
      "text/plain": [
       "RoughCanvas()"
      ]
     },
     "metadata": {},
     "output_type": "display_data"
    }
   ],
   "source": [
    "import numgl\n",
    "\n",
    "from ipycanvas import RoughCanvas\n",
    "canvas = RoughCanvas()\n",
    "\n",
    "canvas.stroke_rect(100, 100, 100, 100)\n",
    "canvas.fill_rect(50, 50, 100, 100)\n",
    "\n",
    "canvas.stroke_circle(300, 300, 100)\n",
    "canvas.fill_circle(350, 350, 100)\n",
    "\n",
    "canvas.stroke_line(200, 200, 300, 300)\n",
    "\n",
    "canvas\n"
   ]
  },
  {
   "cell_type": "code",
   "execution_count": 154,
   "metadata": {},
   "outputs": [
    {
     "data": {
      "application/vnd.jupyter.widget-view+json": {
       "model_id": "3b08153b83614abb93a1dc85b964b9c9",
       "version_major": 2,
       "version_minor": 0
      },
      "text/plain": [
       "interactive(children=(IntSlider(value=525, description='f', max=1000, min=50), FloatSlider(value=3.14159265358…"
      ]
     },
     "metadata": {},
     "output_type": "display_data"
    },
    {
     "data": {
      "application/vnd.jupyter.widget-view+json": {
       "model_id": "c3881501f6ed4009a14ee95ffb34205b",
       "version_major": 2,
       "version_minor": 0
      },
      "text/plain": [
       "RoughCanvas()"
      ]
     },
     "metadata": {},
     "output_type": "display_data"
    }
   ],
   "source": [
    "import numpy as np\n",
    "from ipywidgets import interact\n",
    "from ipycanvas import hold_canvas, RoughCanvas, Canvas\n",
    "\n",
    "canvas = RoughCanvas()\n",
    "width, height = 320, 200\n",
    "\n",
    "n = 10\n",
    "x, y = np.meshgrid(np.linspace(0, width, n), np.linspace(0, height, n))\n",
    "w = np.ones(x.shape)\n",
    "p1s = np.stack([x, y, w], axis=-1).reshape((-1, 3))\n",
    "\n",
    "# external camera\n",
    "def camera(f, ay, x, y):\n",
    "    R = np.array([\n",
    "        [np.cos(ay), 0, np.sin(ay)],\n",
    "        [0, 1, 0],\n",
    "        [-np.sin(ay), 0, np.cos(ay)],\n",
    "    ])\n",
    "    t = np.array([x*width, y*height, -500])\n",
    "    #t = np.array([0,0,-500])\n",
    "    K = np.array([\n",
    "        [f, 0, 0],\n",
    "        [0, f, 0],\n",
    "        [0, 0, 1],\n",
    "    ])\n",
    "    #t = -np.dot(R, t)\n",
    "    return np.dot(K, np.hstack([R, t[:, None]]))\n",
    "    #return np.hstack([np.dot(K, R), t[:, None]])\n",
    "\n",
    "\n",
    "def homogenize(euclidian):\n",
    "    return np.vstack((euclidian, np.ones((1, euclidian.shape[1]))))\n",
    "\n",
    "\n",
    "def dehomogenize(homogenous):\n",
    "    return homogenous[:-1, :] / homogenous[-1, :]\n",
    "\n",
    "\n",
    "def stroke_line(canvas, p1, p2):\n",
    "    scale = np.array([50, 50, 1])\n",
    "    translate = np.array([canvas.width/2, canvas.height/2, 0])\n",
    "    #translate = np.array([0, 0])\n",
    "    p1 = scale * p1 + translate\n",
    "    p2 = scale * p2 + translate\n",
    "    canvas.stroke_line(p1[0], p1[1], p2[0], p2[1])\n",
    "\n",
    "    \n",
    "def stroke_lines(canvas, mvp, lines):\n",
    "    # split into from and to coordinates per line\n",
    "    p1s, p2s = np.split(lines, 2, axis=1)\n",
    "    p1s = np.squeeze(p1s, axis=1)\n",
    "    p2s = np.squeeze(p2s, axis=1)\n",
    "    # project with camera\n",
    "    pp1s = dehomogenize(np.dot(mvp, homogenize(p1s.T))).T\n",
    "    pp2s = dehomogenize(np.dot(mvp, homogenize(p2s.T))).T\n",
    "\n",
    "    with hold_canvas(canvas):\n",
    "        for p1, p2 in zip(pp1s, pp2s):\n",
    "            stroke_line(canvas, p1, p2)\n",
    "\n",
    "\n",
    "def rectangle(width, height):\n",
    "    \"\"\"Create lines for a rectangle\"\"\"\n",
    "    return np.array([\n",
    "        [[0, 0, 0], [width, 0, 0]],\n",
    "        [[width, 0, 0], [width, height, 0]],\n",
    "        [[width, height, 0], [0, height, 0]],\n",
    "        [[0, height, 0], [0, 0, 0]],\n",
    "    ])\n",
    "\n",
    "\n",
    "def update_focal(f, ay):\n",
    "    K = np.array([\n",
    "        [f, 0, width/2],\n",
    "        [0, f, height/2],\n",
    "        [0, 0, 1],\n",
    "    ])\n",
    "    normals = np.dot(np.linalg.inv(K), p1s.T).T\n",
    "    p2s = p1s + normals * 50\n",
    "    lines = np.stack([p1s, p2s], axis=1)  # same shape as matplotlib\n",
    "\n",
    "    # pose\n",
    "    target = np.array([width/2, height/2, 0])\n",
    "    up = np.array([0, 1, 0])\n",
    "    r = 600\n",
    "    t = ay\n",
    "    eye = np.array([r * np.sin(t), 0, r * np.cos(t)])\n",
    "    pose = numgl.lookat(eye, target, up)\n",
    "\n",
    "    mvp = np.dot(numgl.perspective(90, canvas.width/canvas.height, 0.1, 5), pose)\n",
    "    canvas.clear() \n",
    "    stroke_lines(canvas, mvp, lines)\n",
    "    stroke_lines(canvas, mvp, rectangle(width, height))\n",
    "    \n",
    "interact(update_focal, f=(50, 1000), ay=(0, 2*np.pi))\n",
    "canvas\n"
   ]
  },
  {
   "cell_type": "code",
   "execution_count": null,
   "metadata": {},
   "outputs": [],
   "source": []
  },
  {
   "cell_type": "code",
   "execution_count": null,
   "metadata": {},
   "outputs": [],
   "source": []
  }
 ],
 "metadata": {
  "kernelspec": {
   "display_name": "Python 3",
   "language": "python",
   "name": "python3"
  },
  "language_info": {
   "codemirror_mode": {
    "name": "ipython",
    "version": 3
   },
   "file_extension": ".py",
   "mimetype": "text/x-python",
   "name": "python",
   "nbconvert_exporter": "python",
   "pygments_lexer": "ipython3",
   "version": "3.6.9"
  }
 },
 "nbformat": 4,
 "nbformat_minor": 4
}
