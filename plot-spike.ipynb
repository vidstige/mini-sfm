{
 "cells": [
  {
   "cell_type": "code",
   "execution_count": 5,
   "metadata": {},
   "outputs": [
    {
     "data": {
      "application/vnd.jupyter.widget-view+json": {
       "model_id": "d87efcb948a7455d9d516130f353afa9",
       "version_major": 2,
       "version_minor": 0
      },
      "text/plain": [
       "RoughCanvas()"
      ]
     },
     "metadata": {},
     "output_type": "display_data"
    }
   ],
   "source": [
    "from ipycanvas import RoughCanvas\n",
    "canvas = RoughCanvas()\n",
    "\n",
    "canvas.stroke_rect(100, 100, 100, 100)\n",
    "canvas.fill_rect(50, 50, 100, 100)\n",
    "\n",
    "canvas.stroke_circle(300, 300, 100)\n",
    "canvas.fill_circle(350, 350, 100)\n",
    "\n",
    "canvas.stroke_line(200, 200, 300, 300)\n",
    "\n",
    "canvas\n"
   ]
  },
  {
   "cell_type": "code",
   "execution_count": 54,
   "metadata": {},
   "outputs": [
    {
     "data": {
      "application/vnd.jupyter.widget-view+json": {
       "model_id": "ef2a2f43cc3a40d6a2419266f74ea696",
       "version_major": 2,
       "version_minor": 0
      },
      "text/plain": [
       "interactive(children=(FloatSlider(value=10.049999999999999, description='f', max=20.0, min=0.1), Output()), _d…"
      ]
     },
     "metadata": {},
     "output_type": "display_data"
    },
    {
     "data": {
      "application/vnd.jupyter.widget-view+json": {
       "model_id": "52cf03b8a9b840f7aa9448a7a588cfaa",
       "version_major": 2,
       "version_minor": 0
      },
      "text/plain": [
       "RoughCanvas()"
      ]
     },
     "metadata": {},
     "output_type": "display_data"
    }
   ],
   "source": [
    "import numpy as np\n",
    "from ipywidgets import interact\n",
    "from ipycanvas import hold_canvas\n",
    "\n",
    "canvas = RoughCanvas()\n",
    "\n",
    "width, height = 320, 200\n",
    "\n",
    "x, y = np.meshgrid(np.linspace(0, width, 16), np.linspace(0, height, 16))\n",
    "w = np.ones(x.shape)\n",
    "p1s = np.stack([x, y, w], axis=-1).reshape((-1, 3))\n",
    "\n",
    "# external camera\n",
    "R = np.eye(3)\n",
    "t = np.array([1, 1, -30])\n",
    "f = 5\n",
    "K = np.array([\n",
    "    [f,  0, width/2],\n",
    "    [0, f, height/2],\n",
    "    [0, 0, 1],\n",
    "])\n",
    "P = np.dot(K, np.hstack([R, t[:, None]]))\n",
    "\n",
    "def homogenous(euclidian):\n",
    "    return np.vstack((euclidian, np.ones((1, euclidian.shape[1]))))\n",
    "\n",
    "def stroke_line(canvas, p1, p2):\n",
    "    x1, y1 = p1[0] / p1[2], p1[1] / p1[2]\n",
    "    x2, y2 = p2[0] / p2[2], p2[1] / p2[2]    \n",
    "    canvas.stroke_line(x1, y1, x2, y2)\n",
    "\n",
    "def stroke_lines(canvas, P, lines):\n",
    "    # split into from and to coordinates per line\n",
    "    p1s, p2s = np.split(lines, 2, axis=1)\n",
    "    p1s = np.squeeze(p1s, axis=1)\n",
    "    p2s = np.squeeze(p2s, axis=1)\n",
    "    # project with camera\n",
    "    pp1s = np.dot(P, homogenous(p1s.T)).T\n",
    "    pp2s = np.dot(P, homogenous(p2s.T)).T\n",
    "\n",
    "    with hold_canvas(canvas):\n",
    "        for p1, p2 in zip(pp1s, pp2s):\n",
    "            stroke_line(canvas, p1, p2)\n",
    "\n",
    "    \n",
    "def update_focal(f):\n",
    "    f = 12\n",
    "    K = np.array([\n",
    "        [f,  0, width/2],\n",
    "        [0, f, height/2],\n",
    "        [0, 0, 1],\n",
    "    ])\n",
    "    normals = np.dot(np.linalg.inv(K), p1s.T).T\n",
    "    p2s = p1s + normals * 10\n",
    "    lines = np.stack([p1s, p2s], axis=1)  # same shape as matplotlib\n",
    "\n",
    "    canvas.clear()\n",
    "    stroke_lines(canvas, P, lines)\n",
    "    \n",
    "\n",
    "interact(update_focal, f=(0.1, 20))\n",
    "canvas\n"
   ]
  },
  {
   "cell_type": "code",
   "execution_count": null,
   "metadata": {},
   "outputs": [],
   "source": []
  }
 ],
 "metadata": {
  "kernelspec": {
   "display_name": "Python 3",
   "language": "python",
   "name": "python3"
  },
  "language_info": {
   "codemirror_mode": {
    "name": "ipython",
    "version": 3
   },
   "file_extension": ".py",
   "mimetype": "text/x-python",
   "name": "python",
   "nbconvert_exporter": "python",
   "pygments_lexer": "ipython3",
   "version": "3.6.9"
  }
 },
 "nbformat": 4,
 "nbformat_minor": 4
}
